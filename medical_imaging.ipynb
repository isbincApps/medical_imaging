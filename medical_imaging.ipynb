{
  "nbformat": 4,
  "nbformat_minor": 0,
  "metadata": {
    "colab": {
      "name": "medical_imaging.ipynb",
      "version": "0.3.2",
      "provenance": []
    },
    "kernelspec": {
      "name": "python3",
      "display_name": "Python 3"
    },
    "accelerator": "GPU"
  },
  "cells": [
    {
      "cell_type": "code",
      "metadata": {
        "id": "t1fpGhsi3pvN",
        "colab_type": "code",
        "colab": {
          "base_uri": "https://localhost:8080/",
          "height": 35
        },
        "outputId": "47e6a711-6a80-4825-992e-83089f18f6c3"
      },
      "source": [
        "import pandas as pd\n",
        "import numpy as np\n",
        "import os\n",
        "import keras\n",
        "import matplotlib.pyplot as plt\n",
        "from keras.layers import Dense,GlobalAveragePooling2D\n",
        "from keras.applications import MobileNet\n",
        "from keras.preprocessing import image\n",
        "from keras.applications.mobilenet import preprocess_input\n",
        "from keras.preprocessing.image import ImageDataGenerator\n",
        "from keras.models import Model\n",
        "from keras.optimizers import Adam\n",
        "from google.colab import files\n",
        "from keras.applications.inception_v3 import InceptionV3\n",
        "from keras import optimizers\n",
        "from keras.optimizers import Adam, SGD , RMSprop\n"
      ],
      "execution_count": 1,
      "outputs": [
        {
          "output_type": "stream",
          "text": [
            "Using TensorFlow backend.\n"
          ],
          "name": "stderr"
        }
      ]
    },
    {
      "cell_type": "code",
      "metadata": {
        "id": "Y743EIv6319p",
        "colab_type": "code",
        "colab": {
          "resources": {
            "http://localhost:8080/nbextensions/google.colab/files.js": {
              "data": "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",
              "ok": true,
              "headers": [
                [
                  "content-type",
                  "application/javascript"
                ]
              ],
              "status": 200,
              "status_text": ""
            }
          },
          "base_uri": "https://localhost:8080/",
          "height": 110
        },
        "outputId": "b7188941-52d4-4c8a-94a2-f2289b0c4bbe"
      },
      "source": [
        "!pip install -U -q kaggle\n",
        "!mkdir  /root/.kaggle\n",
        "\n",
        "files.upload()"
      ],
      "execution_count": 7,
      "outputs": [
        {
          "output_type": "stream",
          "text": [
            "mkdir: cannot create directory ‘/root/.kaggle’: File exists\n"
          ],
          "name": "stdout"
        },
        {
          "output_type": "display_data",
          "data": {
            "text/html": [
              "\n",
              "     <input type=\"file\" id=\"files-70e9b09f-8d84-49ca-8816-702164a30909\" name=\"files[]\" multiple disabled />\n",
              "     <output id=\"result-70e9b09f-8d84-49ca-8816-702164a30909\">\n",
              "      Upload widget is only available when the cell has been executed in the\n",
              "      current browser session. Please rerun this cell to enable.\n",
              "      </output>\n",
              "      <script src=\"/nbextensions/google.colab/files.js\"></script> "
            ],
            "text/plain": [
              "<IPython.core.display.HTML object>"
            ]
          },
          "metadata": {
            "tags": []
          }
        },
        {
          "output_type": "stream",
          "text": [
            "Saving kaggle.json to kaggle.json\n"
          ],
          "name": "stdout"
        },
        {
          "output_type": "execute_result",
          "data": {
            "text/plain": [
              "{'kaggle.json': b'{\"username\":\"isbincapps\",\"key\":\"732d557bead1d64a89650c03d51b38cf\"}'}"
            ]
          },
          "metadata": {
            "tags": []
          },
          "execution_count": 7
        }
      ]
    },
    {
      "cell_type": "code",
      "metadata": {
        "id": "aTH4bUa59FVa",
        "colab_type": "code",
        "colab": {
          "base_uri": "https://localhost:8080/",
          "height": 107
        },
        "outputId": "9b24d427-9691-4bf4-8ce1-16bd894709ff"
      },
      "source": [
        "!cp kaggle.json /root/.kaggle\n",
        "!kaggle datasets download -d paultimothymooney/chest-xray-pneumonia"
      ],
      "execution_count": 8,
      "outputs": [
        {
          "output_type": "stream",
          "text": [
            "Warning: Your Kaggle API key is readable by other users on this system! To fix this, you can run 'chmod 600 /root/.kaggle/kaggle.json'\n",
            "Downloading chest-xray-pneumonia.zip to /content\n",
            " 99% 1.14G/1.15G [00:20<00:00, 44.3MB/s]\n",
            "100% 1.15G/1.15G [00:20<00:00, 61.6MB/s]\n"
          ],
          "name": "stdout"
        }
      ]
    },
    {
      "cell_type": "code",
      "metadata": {
        "id": "dqnK0usG4E5k",
        "colab_type": "code",
        "colab": {}
      },
      "source": [
        "!apt install pv\n",
        "!unzip -o /content/chest-xray-pneumonia.zip  | pv -l >/dev/null\n",
        "os.remove('chest-xray-pneumonia.zip')\n",
        "!unzip -o /content/chest_xray.zip  | pv -l >/dev/null\n",
        "os.remove('chest_xray.zip')"
      ],
      "execution_count": 0,
      "outputs": []
    },
    {
      "cell_type": "code",
      "metadata": {
        "id": "0-7vqsQUmpkZ",
        "colab_type": "code",
        "colab": {
          "base_uri": "https://localhost:8080/",
          "height": 69
        },
        "outputId": "7b663c91-1f5d-4168-d077-906a8c515ad0"
      },
      "source": [
        "\n",
        "# batch_size = 32\n",
        "\n",
        "# target_size = (299, 299)\n",
        "# color_mode = \"rgb\"\n",
        "\n",
        "\n",
        "rescale = 1./255\n",
        "target_size = (150, 150)\n",
        "batch_size = 163\n",
        "class_mode = \"categorical\"\n",
        "# class_mode = \"binary\"\n",
        "train_dir = '/content/chest_xray/train'\n",
        "test_dir = '/content/chest_xray/test'\n",
        "val_dir = '/content/chest_xray/val'\n",
        "\n",
        "def dir_file_count(directory):\n",
        "    return sum([len(files) for r, d, files in os.walk(directory)])\n",
        "\n",
        "train_datagen = ImageDataGenerator(\n",
        "    rescale=rescale,\n",
        "    shear_range=0.2,\n",
        "    zoom_range=0.2,\n",
        "    horizontal_flip=True)\n",
        "\n",
        "\n",
        "train_generator = train_datagen.flow_from_directory(\n",
        "    train_dir,\n",
        "    target_size=target_size,\n",
        "    class_mode=class_mode,\n",
        "    batch_size=batch_size,\n",
        "    shuffle=True)\n",
        "\n",
        "\n",
        "validation_datagen = ImageDataGenerator(rescale=rescale)\n",
        "\n",
        "validation_generator = validation_datagen.flow_from_directory(\n",
        "    val_dir,\n",
        "    target_size=target_size,\n",
        "    class_mode=class_mode,\n",
        "    batch_size=dir_file_count(val_dir),\n",
        "    shuffle = False)\n",
        "\n",
        "test_datagen = ImageDataGenerator(rescale=rescale)\n",
        "\n",
        "test_generator = test_datagen.flow_from_directory(\n",
        "    test_dir,\n",
        "    target_size=target_size,\n",
        "    class_mode=class_mode,\n",
        "    batch_size=dir_file_count(test_dir),\n",
        "    shuffle = False)"
      ],
      "execution_count": 26,
      "outputs": [
        {
          "output_type": "stream",
          "text": [
            "Found 5216 images belonging to 2 classes.\n",
            "Found 16 images belonging to 2 classes.\n",
            "Found 624 images belonging to 2 classes.\n"
          ],
          "name": "stdout"
        }
      ]
    },
    {
      "cell_type": "code",
      "metadata": {
        "id": "o-K0HyW04ie1",
        "colab_type": "code",
        "colab": {}
      },
      "source": [
        "base_model = InceptionV3(weights='imagenet', include_top=False, input_shape=(150, 150, 3))\n",
        "\n",
        "x = base_model.output\n",
        "x=GlobalAveragePooling2D()(x)\n",
        "x=Dense(1024,activation='relu')(x) #we add dense layers so that the model can learn more complex functions and classify for better results.\n",
        "x=Dense(1024,activation='relu')(x) #dense layer 2\n",
        "x=Dense(512,activation='relu')(x) #dense layer 3\n",
        "preds=Dense(2,activation='softmax')(x) #final layer with softmax activation"
      ],
      "execution_count": 0,
      "outputs": []
    },
    {
      "cell_type": "code",
      "metadata": {
        "id": "k0KKAAaU5KMK",
        "colab_type": "code",
        "colab": {}
      },
      "source": [
        "model=Model(inputs=base_model.input,outputs=preds)\n",
        "\n",
        "for layer in model.layers[:20]:\n",
        "    layer.trainable=False\n",
        "for layer in model.layers[20:]:\n",
        "    layer.trainable=True"
      ],
      "execution_count": 0,
      "outputs": []
    },
    {
      "cell_type": "code",
      "metadata": {
        "id": "dJ8WYllY5MCM",
        "colab_type": "code",
        "colab": {
          "base_uri": "https://localhost:8080/",
          "height": 1000
        },
        "outputId": "03d3e4e5-9e9b-4dc4-fdfe-b9d82854c9eb"
      },
      "source": [
        "#train_datagen=ImageDataGenerator(preprocessing_function=preprocess_input) #included in our dependencies\n",
        "\n",
        "#train_generator=train_datagen.flow_from_directory('/content/chest_xray/train/',\n",
        "#                                                 target_size=(150,150),\n",
        "#                                                  color_mode='rgb',\n",
        "#                                                  batch_size=32,\n",
        "#                                                  class_mode='categorical', shuffle=True)\n",
        "steps_per_epoch=len(train_generator)\n",
        "validation_steps=len(validation_generator)\n",
        "\n",
        "optimizer=optimizers.Adam()\n",
        "loss='categorical_crossentropy'\n",
        "metrics=['accuracy']\n",
        "\n",
        "model.compile(optimizer, loss=loss, metrics=metrics)\n",
        "# Adam optimizer\n",
        "# loss function will be categorical cross entropy\n",
        "# evaluation metric will be accuracy\n",
        "\n",
        "#step_size_train=train_generator.n//train_generator.batch_size\n",
        "#model.fit_generator(generator=train_generator,\n",
        "#                   steps_per_epoch=step_size_train,\n",
        "#                   epochs=100)\n",
        "\n",
        "model.fit_generator(\n",
        "    train_generator,\n",
        "    steps_per_epoch = steps_per_epoch,\n",
        "    epochs=80,\n",
        "    verbose=2,\n",
        "    validation_data=validation_generator,\n",
        "    validation_steps=validation_steps)"
      ],
      "execution_count": 36,
      "outputs": [
        {
          "output_type": "stream",
          "text": [
            "Epoch 1/80\n",
            " - 90s - loss: 0.0592 - acc: 0.9797 - val_loss: 5.6146 - val_acc: 0.5000\n",
            "Epoch 2/80\n",
            " - 70s - loss: 0.0446 - acc: 0.9826 - val_loss: 4.5802 - val_acc: 0.5000\n",
            "Epoch 3/80\n",
            " - 73s - loss: 0.0382 - acc: 0.9845 - val_loss: 5.5546 - val_acc: 0.5000\n",
            "Epoch 4/80\n",
            " - 73s - loss: 0.0385 - acc: 0.9856 - val_loss: 4.5505 - val_acc: 0.5000\n",
            "Epoch 5/80\n",
            " - 73s - loss: 0.0360 - acc: 0.9896 - val_loss: 5.3416 - val_acc: 0.5000\n",
            "Epoch 6/80\n",
            " - 73s - loss: 0.0402 - acc: 0.9868 - val_loss: 3.7778 - val_acc: 0.5000\n",
            "Epoch 7/80\n",
            " - 72s - loss: 0.0345 - acc: 0.9879 - val_loss: 5.7557 - val_acc: 0.5000\n",
            "Epoch 8/80\n",
            " - 72s - loss: 0.0319 - acc: 0.9881 - val_loss: 5.6506 - val_acc: 0.5000\n",
            "Epoch 9/80\n",
            " - 72s - loss: 0.0279 - acc: 0.9908 - val_loss: 5.6591 - val_acc: 0.5000\n",
            "Epoch 10/80\n",
            " - 72s - loss: 0.0275 - acc: 0.9902 - val_loss: 5.8838 - val_acc: 0.5000\n",
            "Epoch 11/80\n",
            " - 71s - loss: 0.0299 - acc: 0.9891 - val_loss: 4.5472 - val_acc: 0.5000\n",
            "Epoch 12/80\n",
            " - 71s - loss: 0.0275 - acc: 0.9902 - val_loss: 5.3551 - val_acc: 0.5000\n",
            "Epoch 13/80\n",
            " - 71s - loss: 0.0184 - acc: 0.9931 - val_loss: 6.3092 - val_acc: 0.5000\n",
            "Epoch 14/80\n",
            " - 71s - loss: 0.0203 - acc: 0.9921 - val_loss: 4.6969 - val_acc: 0.5000\n",
            "Epoch 15/80\n",
            " - 71s - loss: 0.0191 - acc: 0.9929 - val_loss: 4.6751 - val_acc: 0.5000\n",
            "Epoch 16/80\n",
            " - 70s - loss: 0.0187 - acc: 0.9927 - val_loss: 5.5344 - val_acc: 0.5000\n",
            "Epoch 17/80\n",
            " - 71s - loss: 0.0215 - acc: 0.9927 - val_loss: 6.1217 - val_acc: 0.5000\n",
            "Epoch 18/80\n",
            " - 71s - loss: 0.0144 - acc: 0.9941 - val_loss: 6.6293 - val_acc: 0.5000\n",
            "Epoch 19/80\n",
            " - 71s - loss: 0.0162 - acc: 0.9937 - val_loss: 5.9574 - val_acc: 0.5000\n",
            "Epoch 20/80\n",
            " - 71s - loss: 0.0179 - acc: 0.9941 - val_loss: 6.7749 - val_acc: 0.5000\n",
            "Epoch 21/80\n",
            " - 71s - loss: 0.0153 - acc: 0.9944 - val_loss: 5.8078 - val_acc: 0.5000\n",
            "Epoch 22/80\n",
            " - 71s - loss: 0.0134 - acc: 0.9944 - val_loss: 5.9265 - val_acc: 0.5000\n",
            "Epoch 23/80\n",
            " - 70s - loss: 0.0115 - acc: 0.9956 - val_loss: 6.9035 - val_acc: 0.5000\n",
            "Epoch 24/80\n",
            " - 71s - loss: 0.0124 - acc: 0.9954 - val_loss: 6.1116 - val_acc: 0.5000\n",
            "Epoch 25/80\n",
            " - 71s - loss: 0.0099 - acc: 0.9960 - val_loss: 7.5356 - val_acc: 0.5000\n",
            "Epoch 26/80\n",
            " - 70s - loss: 0.0141 - acc: 0.9946 - val_loss: 7.7516 - val_acc: 0.5000\n",
            "Epoch 27/80\n",
            " - 70s - loss: 0.0125 - acc: 0.9950 - val_loss: 7.8220 - val_acc: 0.5000\n",
            "Epoch 28/80\n",
            " - 71s - loss: 0.0110 - acc: 0.9954 - val_loss: 7.7311 - val_acc: 0.5000\n",
            "Epoch 29/80\n",
            " - 72s - loss: 0.0149 - acc: 0.9941 - val_loss: 3.8531 - val_acc: 0.5000\n",
            "Epoch 30/80\n",
            " - 71s - loss: 0.0155 - acc: 0.9946 - val_loss: 4.5529 - val_acc: 0.5000\n",
            "Epoch 31/80\n",
            " - 72s - loss: 0.0083 - acc: 0.9973 - val_loss: 7.1375 - val_acc: 0.5000\n",
            "Epoch 32/80\n",
            " - 71s - loss: 0.0115 - acc: 0.9962 - val_loss: 7.3387 - val_acc: 0.5000\n",
            "Epoch 33/80\n",
            " - 71s - loss: 0.0092 - acc: 0.9964 - val_loss: 7.5618 - val_acc: 0.5000\n",
            "Epoch 34/80\n",
            " - 72s - loss: 0.0117 - acc: 0.9962 - val_loss: 7.4824 - val_acc: 0.5000\n",
            "Epoch 35/80\n",
            " - 71s - loss: 0.0096 - acc: 0.9967 - val_loss: 4.6114 - val_acc: 0.5000\n",
            "Epoch 36/80\n",
            " - 71s - loss: 0.0081 - acc: 0.9971 - val_loss: 6.2929 - val_acc: 0.5000\n",
            "Epoch 37/80\n",
            " - 72s - loss: 0.0156 - acc: 0.9942 - val_loss: 2.3092 - val_acc: 0.5625\n",
            "Epoch 38/80\n",
            " - 72s - loss: 0.0073 - acc: 0.9969 - val_loss: 2.7789 - val_acc: 0.5625\n",
            "Epoch 39/80\n",
            " - 72s - loss: 0.0124 - acc: 0.9946 - val_loss: 5.8243 - val_acc: 0.5000\n",
            "Epoch 40/80\n",
            " - 72s - loss: 0.0115 - acc: 0.9954 - val_loss: 6.7528 - val_acc: 0.5000\n",
            "Epoch 41/80\n",
            " - 73s - loss: 0.0072 - acc: 0.9975 - val_loss: 6.7352 - val_acc: 0.5000\n",
            "Epoch 42/80\n",
            " - 71s - loss: 0.0065 - acc: 0.9971 - val_loss: 6.3747 - val_acc: 0.5000\n",
            "Epoch 43/80\n",
            " - 71s - loss: 0.0069 - acc: 0.9975 - val_loss: 7.1536 - val_acc: 0.5000\n",
            "Epoch 44/80\n",
            " - 71s - loss: 0.0100 - acc: 0.9964 - val_loss: 5.1181 - val_acc: 0.5000\n",
            "Epoch 45/80\n",
            " - 71s - loss: 0.0072 - acc: 0.9979 - val_loss: 2.2958 - val_acc: 0.6250\n",
            "Epoch 46/80\n",
            " - 71s - loss: 0.0049 - acc: 0.9981 - val_loss: 6.2247 - val_acc: 0.5000\n",
            "Epoch 47/80\n",
            " - 71s - loss: 0.0093 - acc: 0.9967 - val_loss: 4.2249 - val_acc: 0.5000\n",
            "Epoch 48/80\n",
            " - 71s - loss: 0.0072 - acc: 0.9967 - val_loss: 3.7159 - val_acc: 0.5000\n",
            "Epoch 49/80\n",
            " - 71s - loss: 0.0069 - acc: 0.9981 - val_loss: 4.1785 - val_acc: 0.5000\n",
            "Epoch 50/80\n",
            " - 71s - loss: 0.0086 - acc: 0.9977 - val_loss: 6.6374 - val_acc: 0.5000\n",
            "Epoch 51/80\n",
            " - 70s - loss: 0.0127 - acc: 0.9952 - val_loss: 7.4926 - val_acc: 0.5000\n",
            "Epoch 52/80\n",
            " - 70s - loss: 0.0057 - acc: 0.9981 - val_loss: 6.4309 - val_acc: 0.5000\n",
            "Epoch 53/80\n",
            " - 70s - loss: 0.0045 - acc: 0.9988 - val_loss: 6.5920 - val_acc: 0.5000\n",
            "Epoch 54/80\n",
            " - 70s - loss: 0.0104 - acc: 0.9967 - val_loss: 7.7715 - val_acc: 0.5000\n",
            "Epoch 55/80\n",
            " - 70s - loss: 0.0130 - acc: 0.9964 - val_loss: 5.6053 - val_acc: 0.5000\n",
            "Epoch 56/80\n",
            " - 70s - loss: 0.0048 - acc: 0.9985 - val_loss: 4.9846 - val_acc: 0.5000\n",
            "Epoch 57/80\n",
            " - 69s - loss: 0.0093 - acc: 0.9967 - val_loss: 5.9684 - val_acc: 0.5000\n",
            "Epoch 58/80\n",
            " - 69s - loss: 0.0141 - acc: 0.9956 - val_loss: 3.4982 - val_acc: 0.5000\n",
            "Epoch 59/80\n",
            " - 68s - loss: 0.0029 - acc: 0.9992 - val_loss: 6.2972 - val_acc: 0.5000\n",
            "Epoch 60/80\n",
            " - 70s - loss: 0.0083 - acc: 0.9971 - val_loss: 6.7295 - val_acc: 0.5000\n",
            "Epoch 61/80\n",
            " - 70s - loss: 0.0059 - acc: 0.9977 - val_loss: 6.6294 - val_acc: 0.5000\n",
            "Epoch 62/80\n",
            " - 70s - loss: 0.0038 - acc: 0.9983 - val_loss: 7.6071 - val_acc: 0.5000\n",
            "Epoch 63/80\n",
            " - 70s - loss: 0.0067 - acc: 0.9975 - val_loss: 3.7493 - val_acc: 0.5000\n",
            "Epoch 64/80\n",
            " - 70s - loss: 0.0046 - acc: 0.9983 - val_loss: 5.4035 - val_acc: 0.5000\n",
            "Epoch 65/80\n",
            " - 70s - loss: 0.0037 - acc: 0.9985 - val_loss: 6.6877 - val_acc: 0.5000\n",
            "Epoch 66/80\n",
            " - 70s - loss: 0.0108 - acc: 0.9965 - val_loss: 4.2512 - val_acc: 0.5000\n",
            "Epoch 67/80\n",
            " - 70s - loss: 0.0078 - acc: 0.9971 - val_loss: 4.8268 - val_acc: 0.5000\n",
            "Epoch 68/80\n",
            " - 70s - loss: 0.0074 - acc: 0.9975 - val_loss: 4.2925 - val_acc: 0.5000\n",
            "Epoch 69/80\n",
            " - 70s - loss: 0.0078 - acc: 0.9971 - val_loss: 5.9253 - val_acc: 0.5000\n",
            "Epoch 70/80\n",
            " - 70s - loss: 0.0062 - acc: 0.9981 - val_loss: 3.7737 - val_acc: 0.5625\n",
            "Epoch 71/80\n",
            " - 71s - loss: 0.0041 - acc: 0.9983 - val_loss: 4.9643 - val_acc: 0.5000\n",
            "Epoch 72/80\n",
            " - 71s - loss: 0.0044 - acc: 0.9985 - val_loss: 6.7631 - val_acc: 0.5000\n",
            "Epoch 73/80\n",
            " - 71s - loss: 0.0062 - acc: 0.9981 - val_loss: 3.7364 - val_acc: 0.5625\n",
            "Epoch 74/80\n",
            " - 71s - loss: 0.0021 - acc: 0.9990 - val_loss: 5.1675 - val_acc: 0.5625\n",
            "Epoch 75/80\n",
            " - 71s - loss: 0.0048 - acc: 0.9981 - val_loss: 7.2212 - val_acc: 0.5000\n",
            "Epoch 76/80\n",
            " - 71s - loss: 0.0081 - acc: 0.9967 - val_loss: 5.9228 - val_acc: 0.5000\n",
            "Epoch 77/80\n",
            " - 71s - loss: 0.0065 - acc: 0.9971 - val_loss: 6.8661 - val_acc: 0.5000\n",
            "Epoch 78/80\n",
            " - 71s - loss: 0.0035 - acc: 0.9981 - val_loss: 7.5700 - val_acc: 0.5000\n",
            "Epoch 79/80\n",
            " - 70s - loss: 0.0058 - acc: 0.9979 - val_loss: 7.5716 - val_acc: 0.5000\n",
            "Epoch 80/80\n",
            " - 69s - loss: 0.0045 - acc: 0.9988 - val_loss: 7.0420 - val_acc: 0.5000\n"
          ],
          "name": "stdout"
        },
        {
          "output_type": "execute_result",
          "data": {
            "text/plain": [
              "<keras.callbacks.History at 0x7f90aba3a208>"
            ]
          },
          "metadata": {
            "tags": []
          },
          "execution_count": 36
        }
      ]
    },
    {
      "cell_type": "code",
      "metadata": {
        "id": "vAyt6bSWUVGy",
        "colab_type": "code",
        "colab": {}
      },
      "source": [
        "model.save('chest-xray-pneumonia.h5')    \n"
      ],
      "execution_count": 0,
      "outputs": []
    },
    {
      "cell_type": "code",
      "metadata": {
        "id": "FFu8BesJU1KW",
        "colab_type": "code",
        "colab": {}
      },
      "source": [
        "from keras.models import load_model\n",
        "new_model = load_model(\"/content/chest-xray-pneumonia.h5\")\n"
      ],
      "execution_count": 0,
      "outputs": []
    },
    {
      "cell_type": "code",
      "metadata": {
        "id": "bYDiAk7utMT2",
        "colab_type": "code",
        "colab": {
          "base_uri": "https://localhost:8080/",
          "height": 69
        },
        "outputId": "5798556e-56ba-4bca-b94c-977ccc3831d5"
      },
      "source": [
        "result  = new_model.evaluate_generator(test_generator, steps=len(test_generator), verbose=1)\n",
        "print(\"%s%.2f  \"% (\"Loss     : \", result[0]))\n",
        "print(\"%s%.2f%s\"% (\"Accuracy : \", result[1]*100, \"%\"))"
      ],
      "execution_count": 39,
      "outputs": [
        {
          "output_type": "stream",
          "text": [
            "\r1/1 [==============================] - 17s 17s/step\n",
            "Loss     : 4.50  \n",
            "Accuracy : 63.14%\n"
          ],
          "name": "stdout"
        }
      ]
    },
    {
      "cell_type": "code",
      "metadata": {
        "id": "_7EBnAqwa5gD",
        "colab_type": "code",
        "colab": {}
      },
      "source": [
        "def get_rez(pic):\n",
        "  img = image.load_img(pic, target_size=(150,150))\n",
        "  x = image.img_to_array(img)\n",
        "  x = np.expand_dims(x, axis=0)\n",
        "  x = preprocess_input(x)\n",
        "  prediction = new_model.predict(x)\n",
        "  print('la prediction f', prediction)\n",
        "  p_good,p_ill = np.around(prediction, decimals=2)[0]\n",
        "  return{'p_good':p_good,'p_ill':p_ill}"
      ],
      "execution_count": 0,
      "outputs": []
    },
    {
      "cell_type": "code",
      "metadata": {
        "id": "F2wayXpjY_5g",
        "colab_type": "code",
        "colab": {
          "base_uri": "https://localhost:8080/",
          "height": 87
        },
        "outputId": "30d7a233-98b1-48de-a856-7c9fdb94c8ca"
      },
      "source": [
        "#from google.colab import drive\n",
        "#img = drive.mount('/content/chest_xray/test/NORMAL/IM-0001-0001.jpeg')\n",
        "predict1 = get_rez('/content/chest_xray/val/NORMAL/NORMAL2-IM-1442-0001.jpeg')\n",
        "predict2 = get_rez('/content/chest_xray/val/PNEUMONIA/person1946_bacteria_4875.jpeg')\n",
        "print('la prediction 1', predict1)\n",
        "print('la prediction 2', predict2)"
      ],
      "execution_count": 40,
      "outputs": [
        {
          "output_type": "stream",
          "text": [
            "la prediction f [[0.03923794 0.9607621 ]]\n",
            "la prediction f [[8.24305e-09 1.00000e+00]]\n",
            "la prediction 1 {'p_good': 0.04, 'p_ill': 0.96}\n",
            "la prediction 2 {'p_good': 0.0, 'p_ill': 1.0}\n"
          ],
          "name": "stdout"
        }
      ]
    }
  ]
}